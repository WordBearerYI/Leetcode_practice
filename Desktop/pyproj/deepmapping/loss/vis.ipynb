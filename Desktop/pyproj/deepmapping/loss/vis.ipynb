{
 "cells": [
  {
   "cell_type": "code",
   "execution_count": 6,
   "metadata": {},
   "outputs": [
    {
     "name": "stdout",
     "output_type": "stream",
     "text": [
      "tensor([[[0., 1.],\n",
      "         [4., 0.]],\n",
      "\n",
      "        [[1., 1.],\n",
      "         [4., 9.]]])\n",
      "torch.Size([2, 2])\n"
     ]
    },
    {
     "data": {
      "text/plain": [
       "tensor([[-0.9599,  0.2180],\n",
       "        [-0.2727,  0.5368],\n",
       "        [-0.1912,  0.1746],\n",
       "        [-0.6520,  0.0243],\n",
       "        [-0.8446, -0.4968],\n",
       "        [-0.1694,  0.0801],\n",
       "        [-0.6207,  0.6188],\n",
       "        [-0.2024,  0.0454],\n",
       "        [-0.0652, -0.2198],\n",
       "        [ 0.1910,  0.1114]])"
      ]
     },
     "execution_count": 6,
     "metadata": {},
     "output_type": "execute_result"
    }
   ],
   "source": [
    "import torch\n",
    "import torch.nn.init as tini\n",
    "A = torch.Tensor([[0,1,3],[2,1,0],[1,1,1],[1,2,3]])\n",
    "B = torch.Tensor([[2,4,5],[1,2,3],[4,5,1],[2,3,4]])\n",
    "print(A*A)\n",
    "print(torch.sum(A*A,dim=2).size())\n",
    "ti.xavier_normal_(torch.ones((10,2)))"
   ]
  },
  {
   "cell_type": "code",
   "execution_count": 11,
   "metadata": {},
   "outputs": [
    {
     "data": {
      "text/plain": [
       "[1, 2, 3, 4, 5, 6, 7, 8, 9, 10, 11, 12, 13, 14, 15]"
      ]
     },
     "execution_count": 11,
     "metadata": {},
     "output_type": "execute_result"
    }
   ],
   "source": [
    "ref_id = 0\n",
    "tgt_list = list(range(16))\n",
    "tgt_list.pop(ref_id)\n",
    "tgt_list"
   ]
  },
  {
   "cell_type": "code",
   "execution_count": 7,
   "metadata": {},
   "outputs": [
    {
     "data": {
      "text/plain": [
       "tensor([[0.0000, 1.4142],\n",
       "        [2.2361, 1.0000]])"
      ]
     },
     "execution_count": 7,
     "metadata": {},
     "output_type": "execute_result"
    }
   ],
   "source": [
    "import torch\n",
    "A = torch.Tensor([[1,0,0],[0,0,2]])\n",
    "B = torch.Tensor([[1,0,0],[0,0,1]])\n",
    "#C = torch.cat((A.unsqueeze(0),B.unsqueeze(0)),dim=0).contiguous()\n",
    "#print(C,torch.__version__)\n",
    "torch.cdist(A,B)"
   ]
  },
  {
   "cell_type": "code",
   "execution_count": 8,
   "metadata": {},
   "outputs": [
    {
     "data": {
      "text/plain": [
       "1.4142135623730951"
      ]
     },
     "execution_count": 8,
     "metadata": {},
     "output_type": "execute_result"
    }
   ],
   "source": [
    "pow(2,1/2)"
   ]
  },
  {
   "cell_type": "code",
   "execution_count": null,
   "metadata": {},
   "outputs": [],
   "source": []
  }
 ],
 "metadata": {
  "kernelspec": {
   "display_name": "Python 3",
   "language": "python",
   "name": "python3"
  },
  "language_info": {
   "codemirror_mode": {
    "name": "ipython",
    "version": 3
   },
   "file_extension": ".py",
   "mimetype": "text/x-python",
   "name": "python",
   "nbconvert_exporter": "python",
   "pygments_lexer": "ipython3",
   "version": "3.7.3"
  }
 },
 "nbformat": 4,
 "nbformat_minor": 2
}
